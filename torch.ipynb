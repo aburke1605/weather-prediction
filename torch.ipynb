{
 "cells": [
  {
   "cell_type": "code",
   "execution_count": 1,
   "metadata": {},
   "outputs": [],
   "source": [
    "import torch\n",
    "import numpy as np\n",
    "import pandas as pd\n",
    "import uproot as ur"
   ]
  },
  {
   "cell_type": "code",
   "execution_count": 2,
   "metadata": {},
   "outputs": [
    {
     "name": "stdout",
     "output_type": "stream",
     "text": [
      "tensor([[1., 2.],\n",
      "        [3., 4.]])\n",
      "torch.Size([2, 2])\n",
      "torch.float32\n",
      "cpu\n"
     ]
    }
   ],
   "source": [
    "data = [[1.,2.], [3,4]]\n",
    "x_data = torch.tensor(data)\n",
    "print(x_data)\n",
    "print(x_data.shape)\n",
    "print(x_data.dtype)\n",
    "print(x_data.device)"
   ]
  },
  {
   "cell_type": "code",
   "execution_count": 3,
   "metadata": {},
   "outputs": [
    {
     "data": {
      "text/plain": [
       "tensor([[0.8781, 0.0341, 0.9347],\n",
       "        [0.5923, 0.6541, 0.4529]])"
      ]
     },
     "execution_count": 3,
     "metadata": {},
     "output_type": "execute_result"
    }
   ],
   "source": [
    "shape = (2,3,)\n",
    "rand_tensor = torch.rand(shape)\n",
    "rand_tensor"
   ]
  },
  {
   "cell_type": "code",
   "execution_count": 4,
   "metadata": {},
   "outputs": [
    {
     "name": "stdout",
     "output_type": "stream",
     "text": [
      "tensor([0.8781, 0.0341, 0.9347])\n",
      "tensor([0.8781, 0.0341])\n"
     ]
    }
   ],
   "source": [
    "print(rand_tensor[0])\n",
    "print(rand_tensor[0,:-1])"
   ]
  },
  {
   "cell_type": "code",
   "execution_count": 70,
   "metadata": {},
   "outputs": [],
   "source": [
    "from torch.utils.data import Dataset\n",
    "class CustomDataset(Dataset):\n",
    "    def __init__(self, signal_file: str, background_file: str, features: list[str], transform=None, target_transform=None) -> None:\n",
    "        signal = ur.concatenate(signal_file, expressions=features, library=\"pd\")\n",
    "        signal[\"label\"] = torch.ones(signal.shape[0], dtype=torch.float)\n",
    "\n",
    "        background = ur.concatenate(background_file, expressions=features, library=\"pd\")\n",
    "        background[\"label\"] = torch.zeros(background.shape[0], dtype=torch.float)\n",
    "\n",
    "        self.data = pd.concat([signal,background])\n",
    "\n",
    "        self.transform = transform\n",
    "        self.target_transform = target_transform\n",
    "\n",
    "    def __len__(self):\n",
    "        return len(self.data)\n",
    "\n",
    "    def __getitem__(self, idx):\n",
    "        event = self.data.iloc[idx]\n",
    "        label = self.data.label.iloc[idx]\n",
    "        if self.transform:\n",
    "            event = self.transform(event)\n",
    "            print(event)\n",
    "        if self.target_transform:\n",
    "            label = self.target_transform(label)\n",
    "        return event, label"
   ]
  },
  {
   "cell_type": "code",
   "execution_count": 72,
   "metadata": {},
   "outputs": [
    {
     "name": "stdout",
     "output_type": "stream",
     "text": [
      "3\n"
     ]
    }
   ],
   "source": [
    "from torchvision.transforms import ToTensor, Lambda\n",
    "\n",
    "features = [\"B_MCORR\", \"B_ENDVERTEX_X\"]\n",
    "training_data = CustomDataset(\"./signal.root\", \"./background.root\", features=features, transform=ToTensor)\n",
    "# target_transform=Lambda(lambda y: torch.zeros(10, dtype=torch.float).scatter_(0, torch.tensor(y), value=1))"
   ]
  },
  {
   "cell_type": "code",
   "execution_count": 73,
   "metadata": {},
   "outputs": [],
   "source": [
    "from torch.utils.data import DataLoader\n",
    "train_dataloader = DataLoader(training_data, batch_size=64, shuffle=True)"
   ]
  },
  {
   "cell_type": "code",
   "execution_count": 74,
   "metadata": {},
   "outputs": [
    {
     "name": "stdout",
     "output_type": "stream",
     "text": [
      "Using cpu device\n"
     ]
    }
   ],
   "source": [
    "device = (\n",
    "    \"cuda\"\n",
    "    if torch.cuda.is_available()\n",
    "    else \"mps\"\n",
    "    if torch.backends.mps.is_available()\n",
    "    else \"cpu\"\n",
    ")\n",
    "print(f\"Using {device} device\")"
   ]
  },
  {
   "cell_type": "code",
   "execution_count": 87,
   "metadata": {},
   "outputs": [],
   "source": [
    "from torch import nn\n",
    "class NeuralNetwork(nn.Module):\n",
    "    def __init__(self):\n",
    "        super().__init__()\n",
    "        self.linear_relu_stack = nn.Sequential(\n",
    "            nn.Linear(len(features), 2), # 28pixel * 28pixel images\n",
    "            nn.ReLU(),\n",
    "            nn.Linear(2, 2),\n",
    "            nn.ReLU(),\n",
    "            nn.Linear(2, 13), # 13 predictions\n",
    "        )\n",
    "\n",
    "    def forward(self, x):\n",
    "        logits = self.linear_relu_stack(x)\n",
    "        return logits"
   ]
  },
  {
   "cell_type": "code",
   "execution_count": 88,
   "metadata": {},
   "outputs": [
    {
     "name": "stdout",
     "output_type": "stream",
     "text": [
      "NeuralNetwork(\n",
      "  (linear_relu_stack): Sequential(\n",
      "    (0): Linear(in_features=2, out_features=2, bias=True)\n",
      "    (1): ReLU()\n",
      "    (2): Linear(in_features=2, out_features=2, bias=True)\n",
      "    (3): ReLU()\n",
      "    (4): Linear(in_features=2, out_features=13, bias=True)\n",
      "  )\n",
      ")\n"
     ]
    }
   ],
   "source": [
    "model = NeuralNetwork().to(device)\n",
    "print(model)"
   ]
  },
  {
   "cell_type": "code",
   "execution_count": 89,
   "metadata": {},
   "outputs": [
    {
     "data": {
      "text/plain": [
       "tensor([[0.6698, 0.6886],\n",
       "        [0.9259, 0.1200],\n",
       "        [0.0170, 0.6928],\n",
       "        [0.3637, 0.5090],\n",
       "        [0.8377, 0.1941]])"
      ]
     },
     "execution_count": 89,
     "metadata": {},
     "output_type": "execute_result"
    }
   ],
   "source": [
    "X = torch.rand(5, 2, device=device) # 5 repeats\n",
    "X"
   ]
  },
  {
   "cell_type": "code",
   "execution_count": 90,
   "metadata": {},
   "outputs": [
    {
     "name": "stdout",
     "output_type": "stream",
     "text": [
      "torch.Size([5, 13])\n"
     ]
    },
    {
     "data": {
      "text/plain": [
       "tensor([[-3.2493e-01,  4.1555e-01,  6.5495e-01,  2.5975e-01, -5.7697e-01,\n",
       "          1.0018e-01, -5.4894e-01,  4.6940e-01,  4.5887e-01,  9.4235e-02,\n",
       "         -1.6835e-01,  4.7945e-01, -1.9655e-02],\n",
       "        [-3.4495e-01,  3.9505e-01,  6.7346e-01,  2.7569e-01, -5.9716e-01,\n",
       "          7.9201e-02, -5.5289e-01,  4.8960e-01,  4.2869e-01,  7.0087e-02,\n",
       "         -1.9285e-01,  4.7948e-01, -4.1900e-04],\n",
       "        [-3.5165e-01,  3.8818e-01,  6.7966e-01,  2.8103e-01, -6.0393e-01,\n",
       "          7.2171e-02, -5.5421e-01,  4.9636e-01,  4.1858e-01,  6.1995e-02,\n",
       "         -2.0106e-01,  4.7949e-01,  6.0272e-03],\n",
       "        [-3.4723e-01,  3.9271e-01,  6.7557e-01,  2.7751e-01, -5.9947e-01,\n",
       "          7.6807e-02, -5.5334e-01,  4.9190e-01,  4.2525e-01,  6.7331e-02,\n",
       "         -1.9564e-01,  4.7948e-01,  1.7761e-03],\n",
       "        [-3.4460e-01,  3.9540e-01,  6.7314e-01,  2.7541e-01, -5.9681e-01,\n",
       "          7.9567e-02, -5.5282e-01,  4.8924e-01,  4.2922e-01,  7.0508e-02,\n",
       "         -1.9242e-01,  4.7948e-01, -7.5419e-04]], grad_fn=<AddmmBackward0>)"
      ]
     },
     "execution_count": 90,
     "metadata": {},
     "output_type": "execute_result"
    }
   ],
   "source": [
    "logits = model(X)\n",
    "print(logits.shape)\n",
    "logits"
   ]
  },
  {
   "cell_type": "code",
   "execution_count": 91,
   "metadata": {},
   "outputs": [
    {
     "data": {
      "text/plain": [
       "tensor([[0.0468, 0.0982, 0.1248, 0.0841, 0.0364, 0.0717, 0.0374, 0.1037, 0.1026,\n",
       "         0.0712, 0.0548, 0.1047, 0.0636],\n",
       "        [0.0461, 0.0967, 0.1277, 0.0858, 0.0358, 0.0705, 0.0375, 0.1062, 0.1000,\n",
       "         0.0698, 0.0537, 0.1052, 0.0651],\n",
       "        [0.0459, 0.0961, 0.1287, 0.0864, 0.0356, 0.0701, 0.0375, 0.1071, 0.0991,\n",
       "         0.0694, 0.0533, 0.1053, 0.0656],\n",
       "        [0.0460, 0.0965, 0.1280, 0.0860, 0.0358, 0.0703, 0.0375, 0.1065, 0.0997,\n",
       "         0.0697, 0.0536, 0.1052, 0.0653],\n",
       "        [0.0461, 0.0967, 0.1276, 0.0858, 0.0358, 0.0705, 0.0375, 0.1062, 0.1000,\n",
       "         0.0699, 0.0537, 0.1052, 0.0651]], grad_fn=<SoftmaxBackward0>)"
      ]
     },
     "execution_count": 91,
     "metadata": {},
     "output_type": "execute_result"
    }
   ],
   "source": [
    "pred_probab = nn.Softmax(dim=1)(logits)\n",
    "pred_probab"
   ]
  },
  {
   "cell_type": "code",
   "execution_count": 92,
   "metadata": {},
   "outputs": [
    {
     "name": "stdout",
     "output_type": "stream",
     "text": [
      "Predicted class: tensor([2, 2, 2, 2, 2])\n"
     ]
    }
   ],
   "source": [
    "y_pred = pred_probab.argmax(1)\n",
    "print(f\"Predicted class: {y_pred}\")"
   ]
  }
 ],
 "metadata": {
  "kernelspec": {
   "display_name": "Python 3",
   "language": "python",
   "name": "python3"
  },
  "language_info": {
   "codemirror_mode": {
    "name": "ipython",
    "version": 3
   },
   "file_extension": ".py",
   "mimetype": "text/x-python",
   "name": "python",
   "nbconvert_exporter": "python",
   "pygments_lexer": "ipython3",
   "version": "3.10.10"
  },
  "orig_nbformat": 4
 },
 "nbformat": 4,
 "nbformat_minor": 2
}
